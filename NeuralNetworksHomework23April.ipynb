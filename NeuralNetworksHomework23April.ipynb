{
  "nbformat": 4,
  "nbformat_minor": 0,
  "metadata": {
    "colab": {
      "name": "NeuralNetworksHomework23April.ipynb",
      "provenance": [],
      "collapsed_sections": [],
      "machine_shape": "hm"
    },
    "kernelspec": {
      "name": "python3",
      "display_name": "Python 3"
    },
    "accelerator": "GPU"
  },
  "cells": [
    {
      "cell_type": "code",
      "metadata": {
        "id": "B0ktUo3qQyRW",
        "colab_type": "code",
        "colab": {}
      },
      "source": [
        "#!pip install tqdm -U"
      ],
      "execution_count": 0,
      "outputs": []
    },
    {
      "cell_type": "code",
      "metadata": {
        "id": "lP8b_YKS3DoC",
        "colab_type": "code",
        "colab": {
          "base_uri": "https://localhost:8080/",
          "height": 35
        },
        "outputId": "4c7417f9-8911-4852-8367-c7ad9b26b607"
      },
      "source": [
        "from google.colab import drive\n",
        "drive.mount('/content/gdrive')\n"
      ],
      "execution_count": 2,
      "outputs": [
        {
          "output_type": "stream",
          "text": [
            "Drive already mounted at /content/gdrive; to attempt to forcibly remount, call drive.mount(\"/content/gdrive\", force_remount=True).\n"
          ],
          "name": "stdout"
        }
      ]
    },
    {
      "cell_type": "code",
      "metadata": {
        "id": "dBQOzMeNBTRX",
        "colab_type": "code",
        "outputId": "6973d805-fb93-4563-bf5f-00bfce1cc81b",
        "colab": {
          "base_uri": "https://localhost:8080/",
          "height": 35
        }
      },
      "source": [
        "from tensorflow.python.client import device_lib\n",
        "str(device_lib.list_local_devices()[-1]).split('\\n')[-2]"
      ],
      "execution_count": 3,
      "outputs": [
        {
          "output_type": "execute_result",
          "data": {
            "text/plain": [
              "'physical_device_desc: \"device: 0, name: Tesla P100-PCIE-16GB, pci bus id: 0000:00:04.0, compute capability: 6.0\"'"
            ]
          },
          "metadata": {
            "tags": []
          },
          "execution_count": 3
        }
      ]
    },
    {
      "cell_type": "code",
      "metadata": {
        "id": "EqNOaAkOcqwh",
        "colab_type": "code",
        "colab": {
          "base_uri": "https://localhost:8080/",
          "height": 72
        },
        "outputId": "7ec5d2f7-003c-4283-81e2-0f1709eccdc5"
      },
      "source": [
        "import os\n",
        "import numpy as np\n",
        "import pandas as pd\n",
        "import matplotlib.pyplot as plt\n",
        "import seaborn as sns\n",
        "from tqdm import tqdm\n",
        "import re \n",
        "\n",
        "import warnings\n",
        "warnings.filterwarnings('ignore')"
      ],
      "execution_count": 4,
      "outputs": [
        {
          "output_type": "stream",
          "text": [
            "/usr/local/lib/python3.6/dist-packages/statsmodels/tools/_testing.py:19: FutureWarning: pandas.util.testing is deprecated. Use the functions in the public API at pandas.testing instead.\n",
            "  import pandas.util.testing as tm\n"
          ],
          "name": "stderr"
        }
      ]
    },
    {
      "cell_type": "markdown",
      "metadata": {
        "id": "Rqk6OcVJtka8",
        "colab_type": "text"
      },
      "source": [
        "# Домашняя работа \n",
        "### Урок 5. Рекуррентные нейронные сети"
      ]
    },
    {
      "cell_type": "markdown",
      "metadata": {
        "id": "egBlcP_0-lWt",
        "colab_type": "text"
      },
      "source": [
        "Попробуйте изменить параметры нейронной сети генерирующий текст таким образом, чтобы добиться генерации как можно более осмысленного текста. Пришлите лучший получившейся у вас текст и опишите, что вы предприняли, чтобы его получить. Можно использовать текст другого прозведения."
      ]
    },
    {
      "cell_type": "code",
      "metadata": {
        "id": "cQ1rU5vHlNUC",
        "colab_type": "code",
        "outputId": "9ceae0b4-5d2e-4899-ed04-0b471e4ffece",
        "colab": {
          "base_uri": "https://localhost:8080/",
          "height": 52
        }
      },
      "source": [
        "from __future__ import absolute_import, division, print_function, unicode_literals\n",
        "\n",
        "from keras.preprocessing import sequence\n",
        "from keras.models import Sequential\n",
        "from keras.layers import Dense, Embedding, Activation,Dropout\n",
        "from keras.layers import LSTM,GRU, SimpleRNN, BatchNormalization\n",
        "\n",
        "\n",
        "# TensorFlow and tf.keras\n",
        "import tensorflow as tf\n",
        "from tensorflow import keras\n",
        "\n",
        "print(tf.__version__)"
      ],
      "execution_count": 5,
      "outputs": [
        {
          "output_type": "stream",
          "text": [
            "2.2.0-rc3\n"
          ],
          "name": "stdout"
        },
        {
          "output_type": "stream",
          "text": [
            "Using TensorFlow backend.\n"
          ],
          "name": "stderr"
        }
      ]
    },
    {
      "cell_type": "code",
      "metadata": {
        "id": "pGR2VZnt19vu",
        "colab_type": "code",
        "colab": {}
      },
      "source": [
        "SEED = 1 \n",
        "os.environ['PYTHONHASHSEED']=str(SEED)\n",
        "os.environ['TF_CUDNN_DETERMINISTIC'] = '1' \n",
        "np.random.seed(SEED)\n",
        "tf.compat.v1.set_random_seed(SEED)"
      ],
      "execution_count": 0,
      "outputs": []
    },
    {
      "cell_type": "markdown",
      "metadata": {
        "id": "OhgTj8NqX_UZ",
        "colab_type": "text"
      },
      "source": [
        "### whole word predictions"
      ]
    },
    {
      "cell_type": "code",
      "metadata": {
        "id": "ffBKAuaiAPoW",
        "colab_type": "code",
        "colab": {}
      },
      "source": [
        "file_ = 'gdrive/My Drive/alice_in_wonderland.txt' \n",
        "with open(file_, 'rb') as f:\n",
        "    alice = []\n",
        "    for line in f:\n",
        "        line = line.strip().lower().decode(\"ascii\", \"ignore\")\n",
        "        if line:\n",
        "            alice.append(line)\n",
        "# removing credits from begining and from the end\n",
        "alice = alice[17:-297]"
      ],
      "execution_count": 0,
      "outputs": []
    },
    {
      "cell_type": "code",
      "metadata": {
        "id": "M5_oxoqFsiYo",
        "colab_type": "code",
        "colab": {}
      },
      "source": [
        "start_phrases = ['the lobster quadrille the mock ',\n",
        "                 'kept fanning herself all the time',\n",
        "                 'alice led the way and the whole',\n",
        "\n",
        "                 'every morning alice eats ears',\n",
        "                 'caterpillar smoking flower tea today',\n",
        "                 'duchess so pretty when she',\n",
        "\n",
        "                 'christian eastern goat sewing boxers',\n",
        "                 'national anthem is greatest song',\n",
        "                 'lord windsor shooting sqirrel immediately',\n",
        "\n",
        "                 ]\n"
      ],
      "execution_count": 0,
      "outputs": []
    },
    {
      "cell_type": "code",
      "metadata": {
        "id": "upL17B3HrWGD",
        "colab_type": "code",
        "colab": {}
      },
      "source": [
        "def dict_words(text):\n",
        "    text = \" \".join(text)\n",
        "    text_by_words = re.findall(r'\\w+', text)\n",
        "    words = set(text_by_words)\n",
        "    return text_by_words, words\n"
      ],
      "execution_count": 0,
      "outputs": []
    },
    {
      "cell_type": "code",
      "metadata": {
        "id": "vGFd70GygH6l",
        "colab_type": "code",
        "colab": {}
      },
      "source": [
        "def model_by_world(text,start_set, n_iter = 10, s_len = 10):\n",
        "    text_by_words, words = dict_words(text)\n",
        "    dict_len = len(words)\n",
        "\n",
        "    print(f'Created text_set {len(words)} words')\n",
        "    \n",
        "    word2index = {c: i for i, c in enumerate(words)}\n",
        "    index2word = {i: c for i, c in enumerate(words)}\n",
        "\n",
        "    input_words, label_words = [], []\n",
        "    \n",
        "    for i in range(0, len(text_by_words) - s_len, 1):\n",
        "        input_words.append(text_by_words[i: i + s_len])\n",
        "        label_words.append(text_by_words[i + s_len])\n",
        "\n",
        "    X = np.zeros((len(input_words), s_len, dict_len), dtype=np.bool)\n",
        "    y = np.zeros((len(input_words), dict_len), dtype=np.bool)\n",
        "    \n",
        "    for i, input_ in enumerate(input_words):\n",
        "        for j, ch in enumerate(input_):\n",
        "            X[i, j, word2index[ch]] = 1\n",
        "        y[i, word2index[label_words[i]]] = 1\n",
        "    \n",
        "    model = model_build(s_len, dict_len)\n",
        "\n",
        "    hist_loss = []\n",
        "\n",
        "    for _ in tqdm(range (n_iter)):\n",
        "        history = model.fit(X, y, batch_size=128, epochs= 1, verbose = 0)\n",
        "        hist_loss.append(history.history['loss'])\n",
        "\n",
        "    plt.plot(hist_loss);\n",
        "\n",
        "    for start_ in start_set:\n",
        "        start_ = start_.strip() .split(' ')[:s_len]\n",
        "        test_word = start_.copy()\n",
        "        predict_world = start_.copy()\n",
        "        print(f'Predicting:')\n",
        "        print(' '.join(test_word))\n",
        "\n",
        "        for i in range(30):\n",
        "\n",
        "            X_test = np.zeros((1, s_len, dict_len))\n",
        "            for j, ch in enumerate(test_word):\n",
        "                X_test[0, j, word2index[ch]] = 1\n",
        "\n",
        "            pred = model.predict(X_test, verbose=0)[0]\n",
        "            y_pred = index2word[np.argmax(pred)]\n",
        "            predict_world += [y_pred]\n",
        "            test_word = test_word[1:] + [y_pred]\n",
        "        \n",
        "        for i in range(3):\n",
        "            print(' '.join(predict_world[:10]))\n",
        "            predict_world = predict_world[10:]\n",
        "        print(' '.join(predict_world))\n",
        "\n",
        "        print()\n",
        "\n"
      ],
      "execution_count": 0,
      "outputs": []
    },
    {
      "cell_type": "code",
      "metadata": {
        "id": "11q9DLARn_dJ",
        "colab_type": "code",
        "colab": {
          "base_uri": "https://localhost:8080/",
          "height": 1000
        },
        "outputId": "c48db081-3caf-4323-ae09-8094c65fc0ba"
      },
      "source": [
        "def model_build(SEQLEN, dict_len):\n",
        "    model = Sequential()\n",
        "    model.add(LSTM(512,\n",
        "        return_sequences=False,\n",
        "        input_shape=(SEQLEN, dict_len),\n",
        "        unroll=True))\n",
        "\n",
        "    model.add(BatchNormalization())\n",
        "    model.add(Dropout(0.2))\n",
        "\n",
        "    \n",
        "    model.add(Dense(dict_len))\n",
        "    model.add(Activation(\"softmax\"))\n",
        "    model.compile(loss=\"categorical_crossentropy\", optimizer=\"adam\")\n",
        "    return model\n",
        "\n",
        "model_by_world(alice, start_phrases[:6], n_iter = 100, s_len = 5)"
      ],
      "execution_count": 11,
      "outputs": [
        {
          "output_type": "stream",
          "text": [
            "Created text_set 2612 words\n"
          ],
          "name": "stdout"
        },
        {
          "output_type": "stream",
          "text": [
            "100%|██████████| 100/100 [04:40<00:00,  2.81s/it]\n"
          ],
          "name": "stderr"
        },
        {
          "output_type": "stream",
          "text": [
            "Predicting:\n",
            "the lobster quadrille the mock\n",
            "the lobster quadrille the mock turtle sighed deeply and began\n",
            "in a voice sometimes choked with sobs to sing this\n",
            "beautiful soup ive forgotten that ive got to into it\n",
            "alice was only too glad\n",
            "\n",
            "Predicting:\n",
            "kept fanning herself all the\n",
            "kept fanning herself all the time she went on talking\n",
            "dear dear how queer everything is to day and yesterday\n",
            "things i went sh just i never about it said\n",
            "alice i must be shutting\n",
            "\n",
            "Predicting:\n",
            "alice led the way and\n",
            "alice led the way and the whole party swam to\n",
            "the shore chapter iii a caucus race and a long\n",
            "tale they were indeed a queer looking party that assembled\n",
            "on the bank the birds\n",
            "\n",
            "Predicting:\n",
            "every morning alice eats ears\n",
            "every morning alice eats ears have alice had been before\n",
            "she had sat down but im glad ive some herself\n",
            "in i do alice hastily replied at least at least\n",
            "i mean what i say\n",
            "\n",
            "Predicting:\n",
            "caterpillar smoking flower tea today\n",
            "caterpillar smoking flower tea today i dont i know as\n",
            "it would feel very queer to me but said the\n",
            "caterpillar contemptuously i are you which brought herself i say\n",
            "to the creatures who had\n",
            "\n",
            "Predicting:\n",
            "duchess so pretty when she\n",
            "duchess so pretty when she alice was would foot quite\n",
            "as i down said alice nothing she sat down with\n",
            "a large arm chair at one end of the ive\n",
            "forgotten that ive got to\n",
            "\n"
          ],
          "name": "stdout"
        },
        {
          "output_type": "display_data",
          "data": {
            "image/png": "[encoded data removed]",
            "text/plain": [
              "<Figure size 432x288 with 1 Axes>"
            ]
          },
          "metadata": {
            "tags": [],
            "needs_background": "light"
          }
        }
      ]
    },
    {
      "cell_type": "markdown",
      "metadata": {
        "id": "Uucu6lQiNSwS",
        "colab_type": "text"
      },
      "source": [
        "swallowed one of the cakes and was delighted to find\n",
        "that her neck would bend about easily in any direction\n",
        "like a serpent she had just succeeded in curving it\n",
        "down into a graceful zigzag"
      ]
    },
    {
      "cell_type": "code",
      "metadata": {
        "id": "70ThxAxh4ZMq",
        "colab_type": "code",
        "colab": {}
      },
      "source": [
        "file_ = 'gdrive/My Drive/Guest_From_Future.txt' \n",
        "with open(file_, encoding='CP1251') as f:\n",
        "    guest = []\n",
        "    for line in f:\n",
        "        line = line.strip().lower().replace('\\xa0', ' ')\n",
        "        if line:\n",
        "            guest.append(line)\n",
        "guest= guest [10:]"
      ],
      "execution_count": 0,
      "outputs": []
    },
    {
      "cell_type": "code",
      "metadata": {
        "id": "337ux4OwKqjL",
        "colab_type": "code",
        "colab": {}
      },
      "source": [
        "start_phrases_guest = ['кто то шел по коридору остановился за дверью',\n",
        "                       'с какой скоростью у вас автобусы ездят',\n",
        "                       'нельзя я и так нарушила тайну я преступница',\n",
        "                       \n",
        "                       'сначала алиса была ребенок как ребенок',\n",
        "                       'пять минут вокруг нас собрались все',\n",
        "                       'ну это детям надо знать обязательно',\n",
        "                       \n",
        "                       'два шарика перекатиполя пролетели метрах',\n",
        "                       'томас вскинул арбалет и не прицеливаясь',\n",
        "                       'служит вахтером бывший пират сильвер джонович']"
      ],
      "execution_count": 0,
      "outputs": []
    },
    {
      "cell_type": "code",
      "metadata": {
        "id": "dFDsjO1_4ZP0",
        "colab_type": "code",
        "colab": {
          "base_uri": "https://localhost:8080/",
          "height": 1000
        },
        "outputId": "fac15910-f1e8-44f4-8c2f-525697a5c4f1"
      },
      "source": [
        "def model_build(SEQLEN, dict_len):\n",
        "    model = Sequential()\n",
        "    model.add(LSTM(512,\n",
        "        return_sequences=False,\n",
        "        input_shape=(SEQLEN, dict_len),\n",
        "        unroll=True))\n",
        "\n",
        "    model.add(BatchNormalization())\n",
        "    model.add(Dropout(0.1))\n",
        "\n",
        "    \n",
        "    model.add(Dense(dict_len))\n",
        "    model.add(Activation(\"softmax\"))\n",
        "    model.compile(loss=\"categorical_crossentropy\", optimizer=\"adam\")\n",
        "    return model\n",
        "\n",
        "model_by_world(guest, start_phrases_guest[:6],n_iter = 30, s_len = 5)"
      ],
      "execution_count": 14,
      "outputs": [
        {
          "output_type": "stream",
          "text": [
            "Created text_set 12771 words\n"
          ],
          "name": "stdout"
        },
        {
          "output_type": "stream",
          "text": [
            "100%|██████████| 30/30 [12:26<00:00, 24.87s/it]\n"
          ],
          "name": "stderr"
        },
        {
          "output_type": "stream",
          "text": [
            "Predicting:\n",
            "кто то шел по коридору\n",
            "кто то шел по коридору остановился ты так но не\n",
            "вмешиваться и иди к доске кто от тебя ты а\n",
            "если ты уж я нельзя я мы маленькие ты нового\n",
            "в ты не знаешь я\n",
            "\n",
            "Predicting:\n",
            "с какой скоростью у вас\n",
            "с какой скоростью у вас автобусы ездят а ни с\n",
            "какой они ты не стоят ах ты а если у\n",
            "тебя есть карта я тебе и сказала юлька если ты\n",
            "я говорю ты тебе я\n",
            "\n",
            "Predicting:\n",
            "нельзя я и так нарушила\n",
            "нельзя я и так нарушила тайну я преступница а если\n",
            "ты начнешь спрашивать окажется что я притом и болтунья нет\n",
            "я сама спрошу я бы и тебе ничего не рассказала\n",
            "если бы пираты меня не\n",
            "\n",
            "Predicting:\n",
            "сначала алиса была ребенок как\n",
            "сначала алиса была ребенок как ты а я где это\n",
            "был такой я и если ты не понимаю они он\n",
            "меня пригласил я думала он меня и не замечает он\n",
            "такой ученый девочки а что\n",
            "\n",
            "Predicting:\n",
            "пять минут вокруг нас собрались\n",
            "пять минут вокруг нас собрались у если ты у нас\n",
            "да у нас где у вас и у тебя есть\n",
            "карта никакого он и иди своей дорогой не пойду я\n",
            "селекцию провожу а ты себя\n",
            "\n",
            "Predicting:\n",
            "ну это детям надо знать\n",
            "ну это детям надо знать коля поглядел по натуре и\n",
            "если он ты был такой я тебе а если ты\n",
            "ты кого покажешь тогда поклянись поклянись я одно понимаю сказала\n",
            "алиса и я вам кино\n",
            "\n"
          ],
          "name": "stdout"
        },
        {
          "output_type": "display_data",
          "data": {
            "image/png": "[encoded data removed]",
            "text/plain": [
              "<Figure size 432x288 with 1 Axes>"
            ]
          },
          "metadata": {
            "tags": [],
            "needs_background": "light"
          }
        }
      ]
    },
    {
      "cell_type": "markdown",
      "metadata": {
        "id": "ywiYA5esj-78",
        "colab_type": "text"
      },
      "source": [
        "### one letter predictions"
      ]
    },
    {
      "cell_type": "code",
      "metadata": {
        "id": "NjDUSLwi4ZgA",
        "colab_type": "code",
        "colab": {}
      },
      "source": [
        "def text_prep(text):\n",
        "    text = \" \".join(text)\n",
        "    text = re.findall(r'\\w+', text)\n",
        "    text = \" \".join(text).replace('_','')\n",
        "    letters = set(text)\n",
        "    return text, letters"
      ],
      "execution_count": 0,
      "outputs": []
    },
    {
      "cell_type": "code",
      "metadata": {
        "id": "9vzwrPTXYZeP",
        "colab_type": "code",
        "colab": {}
      },
      "source": [
        "def model_by_letter(text, start_set, n_iter = 10, s_len = 10):\n",
        "    text, letters = text_prep(text)\n",
        "    dict_len = len(letters)\n",
        "\n",
        "    print(f'Created dictionary {len(letters)} letters')\n",
        "    \n",
        "    char2index = {c: i for i, c in enumerate(letters)}\n",
        "    index2char = {i: c for i, c in enumerate(letters)}\n",
        "\n",
        "    input_letters, label_letters = [], []\n",
        "    \n",
        "    for i in range(0, len(text) - s_len, 1):\n",
        "        input_letters.append(text[i: i + s_len])\n",
        "        label_letters.append(text[i + s_len])\n",
        "\n",
        "    X = np.zeros((len(input_letters), s_len, dict_len), dtype=np.bool)\n",
        "    y = np.zeros((len(input_letters), dict_len), dtype=np.bool)\n",
        "    \n",
        "    for i, input_ in enumerate(input_letters):\n",
        "        for j, ch in enumerate(input_):\n",
        "            X[i, j, char2index[ch]] = 1\n",
        "        y[i, char2index[label_letters[i]]] = 1\n",
        "    \n",
        "    model = model_build(s_len, dict_len)\n",
        "\n",
        "    hist_loss = []\n",
        "\n",
        "    for _ in tqdm(range (n_iter)):\n",
        "        history = model.fit(X, y, batch_size=512, epochs= 1, verbose = 0)\n",
        "        hist_loss.append(history.history['loss'])\n",
        "\n",
        "    plt.plot(hist_loss);\n",
        "\n",
        "    print()\n",
        "    for start_ in start_set:\n",
        "        test_letter = start_[:s_len]\n",
        "        predict_text = start_[:s_len]\n",
        "        print(f'Predicting:{test_letter}')\n",
        "\n",
        "        for i in range(150):\n",
        "\n",
        "            X_test = np.zeros((1, s_len, dict_len))\n",
        "            for j, ch in enumerate(test_letter):\n",
        "                X_test[0, j, char2index[ch]] = 1\n",
        "\n",
        "            pred = model.predict(X_test, verbose=0)[0]\n",
        "            y_pred = index2char[np.argmax(pred)]\n",
        "            predict_text += y_pred\n",
        "            test_letter = test_letter[1:] + y_pred\n",
        "        \n",
        "        predict_world = predict_text.split(' ')\n",
        "        for i in range(3):\n",
        "            print(' '.join(predict_world[:10]))\n",
        "            predict_world = predict_world[10:]\n",
        "        print(' '.join(predict_world))\n",
        "\n",
        "        print()\n",
        "\n"
      ],
      "execution_count": 0,
      "outputs": []
    },
    {
      "cell_type": "markdown",
      "metadata": {
        "id": "3aEKAjQ2sOFi",
        "colab_type": "text"
      },
      "source": [
        "# 1 R-layer "
      ]
    },
    {
      "cell_type": "code",
      "metadata": {
        "id": "CfOg8KZGYZgU",
        "colab_type": "code",
        "colab": {
          "base_uri": "https://localhost:8080/",
          "height": 1000
        },
        "outputId": "048139af-9344-4928-c334-0e38f7bf44f6"
      },
      "source": [
        "def model_build(SEQLEN, dict_len):\n",
        "    model = Sequential()\n",
        "    model.add(GRU(512,\n",
        "        return_sequences=False,\n",
        "        input_shape=(SEQLEN, dict_len),\n",
        "        unroll=True))\n",
        "\n",
        "    model.add(BatchNormalization())\n",
        "    model.add(Dropout(0.2))\n",
        "\n",
        "\n",
        "    \n",
        "    model.add(Dense(dict_len))\n",
        "    model.add(Activation(\"softmax\"))\n",
        "    model.compile(loss=\"categorical_crossentropy\", optimizer=\"rmsprop\")\n",
        "    return model\n",
        "\n",
        "model_by_letter(alice, start_phrases, n_iter = 100, s_len = 25)"
      ],
      "execution_count": 17,
      "outputs": [
        {
          "output_type": "stream",
          "text": [
            "Created dictionary 27 letters\n"
          ],
          "name": "stdout"
        },
        {
          "output_type": "stream",
          "text": [
            "100%|██████████| 100/100 [12:03<00:00,  7.24s/it]\n"
          ],
          "name": "stderr"
        },
        {
          "output_type": "stream",
          "text": [
            "\n",
            "Predicting:the lobster quadrille the\n",
            "the lobster quadrille the gryphon went on or would you\n",
            "like the mock turtle so she telpen ith and she\n",
            "while please your majesty said the knave the king were\n",
            "why thats nimber y\n",
            "\n",
            "Predicting:kept fanning herself all \n",
            "kept fanning herself all the time she went on talking\n",
            "dear dear how queer everything is to day and yesterday\n",
            "things went on just as usual i wonder if ive\n",
            "been changed in the n\n",
            "\n",
            "Predicting:alice led the way and the\n",
            "alice led the way and the whole party swam to\n",
            "the shore chapter iii a caucus race and a long\n",
            "tale they were indeed a queer looking party that assembled\n",
            "on the bank the birds w\n",
            "\n",
            "Predicting:every morning alice eats \n",
            "every morning alice eats chrewert and looked at her face\n",
            "in the poor aniin the first notter number ofe ead\n",
            "but there was no one the kings argument was that\n",
            "anything that had a\n",
            "\n",
            "Predicting:caterpillar smoking flowe\n",
            "caterpillar smoking flower down here thong the best bate in\n",
            "a waitther finished this sitting on a brown chair the\n",
            "eaglet keppeaked the queen shopen yis the queen partones poor\n",
            "\n",
            "\n",
            "Predicting:duchess so pretty when sh\n",
            "duchess so pretty when she had giving her fice called\n",
            "comt them they were like alice caught the blast of\n",
            "ecourse ig sech chaining to loust exiceered the caterpillar and\n",
            "alice \n",
            "\n",
            "Predicting:christian eastern goat se\n",
            "christian eastern goat see the queen first why the from\n",
            "garden of course you know what it means i know\n",
            "what it means well enough when i find a thing\n",
            "said the duck its generall\n",
            "\n",
            "Predicting:national anthem is greate\n",
            "national anthem is greated some bile the in my liame\n",
            "over when did you cant think about her i might\n",
            "and wepe and setmous ort of its mouth and began\n",
            "crowing always are the very\n",
            "\n",
            "Predicting:lord windsor shooting sqi\n",
            "lord windsor shooting sqieaked and i dont the march hare\n",
            "with their everysmblarm worse and of least of a shble\n",
            "to alice the gryphon and the constant heavy sobbing of\n",
            "the mock \n",
            "\n"
          ],
          "name": "stdout"
        },
        {
          "output_type": "display_data",
          "data": {
            "image/png": "[encoded data removed]",
            "text/plain": [
              "<Figure size 432x288 with 1 Axes>"
            ]
          },
          "metadata": {
            "tags": [],
            "needs_background": "light"
          }
        }
      ]
    },
    {
      "cell_type": "code",
      "metadata": {
        "id": "fI2SFsJZKqlz",
        "colab_type": "code",
        "colab": {
          "base_uri": "https://localhost:8080/",
          "height": 1000
        },
        "outputId": "eb11aaa4-9ef8-48cf-8354-9056b2b82eda"
      },
      "source": [
        "def model_build(SEQLEN, dict_len):\n",
        "    model = Sequential()\n",
        "    model.add(GRU(512,\n",
        "        return_sequences=False,\n",
        "        input_shape=(SEQLEN, dict_len),\n",
        "        unroll=True))\n",
        "\n",
        "    model.add(BatchNormalization())\n",
        "    model.add(Dropout(0.1))\n",
        "\n",
        "    \n",
        "    model.add(Dense(dict_len))\n",
        "    model.add(Activation(\"softmax\"))\n",
        "    model.compile(loss=\"categorical_crossentropy\", optimizer=\"rmsprop\")\n",
        "    return model\n",
        "\n",
        "model_by_letter(guest, start_phrases_guest.copy(), n_iter = 30, s_len = 15)"
      ],
      "execution_count": 18,
      "outputs": [
        {
          "output_type": "stream",
          "text": [
            "Created dictionary 48 letters\n"
          ],
          "name": "stdout"
        },
        {
          "output_type": "stream",
          "text": [
            "100%|██████████| 30/30 [06:52<00:00, 13.76s/it]\n"
          ],
          "name": "stderr"
        },
        {
          "output_type": "stream",
          "text": [
            "\n",
            "Predicting:кто то шел по к\n",
            "кто то шел по коридор четор алиса ей селезнева в\n",
            "подъезде или наумов и послушно автоматы по вы мотом и\n",
            "не забывай бабушку с дедушкой они видишь что же я\n",
            "маме и бабуш\n",
            "\n",
            "Predicting:с какой скорост\n",
            "с какой скоростью не смог бы пролететь что это самое\n",
            "врачи с себя мартя сказала алиса вот и он вернулся\n",
            "кам из подбежаваем внутри почкиную космозола отвернул крыс св\n",
            "\n",
            "\n",
            "Predicting:нельзя я и так \n",
            "нельзя я и так настоящий друг так это был не\n",
            "ответить вы не спина ты поймали меня вот и и\n",
            "сказал вести чуть не было завтра алиса вы вам все\n",
            "равно ничего не понимаешь\n",
            "\n",
            "Predicting:сначала алиса б\n",
            "сначала алиса была запитане по троллей где поставили алисе надо\n",
            "поглядеть на то как они сказала алиса вот и он\n",
            "вернулся кам из подбежаваем внутри почкиную космозола \n",
            "\n",
            "\n",
            "Predicting:пять минут вокр\n",
            "пять минут вокруг дворит тролетом и сейчас пустой на полной\n",
            "так притом них так бы очесь обязательно поймать под столом\n",
            "правильно коля подошел к стоянке где люди сади\n",
            "\n",
            "\n",
            "Predicting:ну это детям на\n",
            "ну это детям наде делать когда коля сулима подошел ты\n",
            "дома семено и получает многое места в большой вестибюль с\n",
            "прозрачной первоносиден делать на лена разве нет поня\n",
            "\n",
            "\n",
            "Predicting:два шарика пере\n",
            "два шарика переулка оттону люди которые мысли угадывают электрон поглядел\n",
            "на колю вздохнул но продолжал первый вол взяофлись согладная ваттепор\n",
            "ни в шем не погредпеш\n",
            "\n",
            "\n",
            "Predicting:томас вскинул а\n",
            "томас вскинул а где в общем она не из будущем\n",
            "я не было видно запугали вставил девшеннердиром и беспоколей он\n",
            "пошла в коридор отца возвуда такие жалко из колла натви\n",
            "\n",
            "\n",
            "Predicting:служит вахтером\n",
            "служит вахтером николая николаевича сосел в больница но ее наделай\n",
            "мача и вообще удивляюсь почему они тебя не может быть\n",
            "воскликнул мальчик не был без столько сказал\n",
            "\n",
            "\n"
          ],
          "name": "stdout"
        },
        {
          "output_type": "display_data",
          "data": {
            "image/png": "[encoded data removed]",
            "text/plain": [
              "<Figure size 432x288 with 1 Axes>"
            ]
          },
          "metadata": {
            "tags": [],
            "needs_background": "light"
          }
        }
      ]
    },
    {
      "cell_type": "markdown",
      "metadata": {
        "id": "MF0wInqksV5J",
        "colab_type": "text"
      },
      "source": [
        "# 2 R-layers"
      ]
    },
    {
      "cell_type": "code",
      "metadata": {
        "id": "otBG1HL1Kqt4",
        "colab_type": "code",
        "colab": {
          "base_uri": "https://localhost:8080/",
          "height": 1000
        },
        "outputId": "98275a7d-e341-4d61-98e3-3a5af45a4f7f"
      },
      "source": [
        "def model_build(SEQLEN, dict_len):\n",
        "    model = Sequential()\n",
        "    model.add(GRU(256,\n",
        "        return_sequences=True,\n",
        "        input_shape=(SEQLEN, dict_len),\n",
        "        unroll=True))\n",
        "\n",
        "    model.add(BatchNormalization())\n",
        "    model.add(Dropout(0.1))\n",
        "\n",
        "    model.add(GRU(256,\n",
        "        return_sequences=False))\n",
        "\n",
        "    model.add(BatchNormalization())\n",
        "    model.add(Dropout(0.1))\n",
        "\n",
        "    \n",
        "    model.add(Dense(dict_len))\n",
        "    model.add(Activation(\"softmax\"))\n",
        "    model.compile(loss=\"categorical_crossentropy\", optimizer=\"rmsprop\")\n",
        "    return model\n",
        "\n",
        "model_by_letter(alice, start_phrases.copy(), n_iter = 50, s_len = 25)"
      ],
      "execution_count": 19,
      "outputs": [
        {
          "output_type": "stream",
          "text": [
            "Created dictionary 27 letters\n"
          ],
          "name": "stdout"
        },
        {
          "output_type": "stream",
          "text": [
            "100%|██████████| 50/50 [13:22<00:00, 16.05s/it]\n"
          ],
          "name": "stderr"
        },
        {
          "output_type": "stream",
          "text": [
            "\n",
            "Predicting:the lobster quadrille the\n",
            "the lobster quadrille the mock turtle replied and the end\n",
            "of the trees and she was now and then at\n",
            "the gryphon went on in a much as mouse the\n",
            "words did not get down here in fa\n",
            "\n",
            "Predicting:kept fanning herself all \n",
            "kept fanning herself all the thistle and the patter when\n",
            "the queen and the three gardeners instantly and neither of\n",
            "the soldiers who of course the gryphon went on in\n",
            "a much as\n",
            "\n",
            "Predicting:alice led the way and the\n",
            "alice led the way and the hatter went on eagerly\n",
            "for she was now and then at the gryphon went\n",
            "on in a much as mouse the words did not\n",
            "get down here in fact as if she was so mu\n",
            "\n",
            "Predicting:every morning alice eats \n",
            "every morning alice eats like that one of the sea\n",
            "and began in a voice of the song in her\n",
            "hands and she was now and then at the gryphon\n",
            "went on in a much as mouse the words di\n",
            "\n",
            "Predicting:caterpillar smoking flowe\n",
            "caterpillar smoking flowers and the hatter went on eagerly for\n",
            "she was now and then at the gryphon went on\n",
            "in a much as mouse the words did not get\n",
            "down here in fact as if she\n",
            "\n",
            "Predicting:duchess so pretty when sh\n",
            "duchess so pretty when she was near the end of\n",
            "the table said alice who was a little startled by\n",
            "a very long silence from that in beautiful soup beau\n",
            "ootiful soo oop beau ooti\n",
            "\n",
            "Predicting:christian eastern goat se\n",
            "christian eastern goat senth after a long as it was\n",
            "only she could not could not would not join the\n",
            "dance would not could not would not join the dance\n",
            "would not could not woul\n",
            "\n",
            "Predicting:national anthem is greate\n",
            "national anthem is greated herself with man as if she\n",
            "were said the dormouse again thats not a real rainting\n",
            "the king said to the jury and the mock turtle\n",
            "went on what you may\n",
            "\n",
            "Predicting:lord windsor shooting sqi\n",
            "lord windsor shooting sqielt and the three gardeners instantly and\n",
            "neither of the soldiers who of course the gryphon went\n",
            "on in a much as mouse the words did not\n",
            "get down here\n",
            "\n"
          ],
          "name": "stdout"
        },
        {
          "output_type": "display_data",
          "data": {
            "image/png": "[encoded data removed]",
            "text/plain": [
              "<Figure size 432x288 with 1 Axes>"
            ]
          },
          "metadata": {
            "tags": [],
            "needs_background": "light"
          }
        }
      ]
    },
    {
      "cell_type": "code",
      "metadata": {
        "id": "JfHax9wXKqwf",
        "colab_type": "code",
        "colab": {
          "base_uri": "https://localhost:8080/",
          "height": 1000
        },
        "outputId": "6b679e01-0705-45f4-e15f-866267ee90e4"
      },
      "source": [
        "def model_build(SEQLEN, dict_len):\n",
        "    model = Sequential()\n",
        "    model.add(GRU(256,\n",
        "        return_sequences=True,\n",
        "        input_shape=(SEQLEN, dict_len),\n",
        "        unroll=True))\n",
        "\n",
        "    model.add(BatchNormalization())\n",
        "    model.add(Dropout(0.1))\n",
        "\n",
        "    model.add(GRU(256,\n",
        "        return_sequences=False))\n",
        "\n",
        "    model.add(BatchNormalization())\n",
        "    model.add(Dropout(0.1))\n",
        "\n",
        "    \n",
        "    model.add(Dense(dict_len))\n",
        "    model.add(Activation(\"softmax\"))\n",
        "    model.compile(loss=\"categorical_crossentropy\", optimizer=\"rmsprop\")\n",
        "    return model\n",
        "\n",
        "model_by_letter(guest, start_phrases_guest.copy(), n_iter = 50, s_len = 15)"
      ],
      "execution_count": 20,
      "outputs": [
        {
          "output_type": "stream",
          "text": [
            "Created dictionary 48 letters\n"
          ],
          "name": "stdout"
        },
        {
          "output_type": "stream",
          "text": [
            "100%|██████████| 50/50 [25:15<00:00, 30.30s/it]\n"
          ],
          "name": "stderr"
        },
        {
          "output_type": "stream",
          "text": [
            "\n",
            "Predicting:кто то шел по к\n",
            "кто то шел по коридору и послушай сказал коля сулима\n",
            "с полозовали и вообще не ответил коля сулима с полозовали\n",
            "и вообще не ответил коля сулима с полозовали и вообще\n",
            "\n",
            "\n",
            "Predicting:с какой скорост\n",
            "с какой скоростью на космодром с тобой слова сказала алиса\n",
            "не стала спросила алиса не слышала сказал коля сулима с\n",
            "полозовали и вообще не ответил коля сулима с полоз\n",
            "\n",
            "\n",
            "Predicting:нельзя я и так \n",
            "нельзя я и так что такое спросила алиса не слышала\n",
            "сказал коля сулима с полозовали и вообще не ответил коля\n",
            "сулима с полозовали и вообще не ответил коля сулима с\n",
            "пол\n",
            "\n",
            "Predicting:сначала алиса б\n",
            "сначала алиса будет не слышала как по английски поднялась по\n",
            "пользу и ответила юлька она выглядывала чтобы потом коля понял\n",
            "что вы не поняли что ты не проверят что о\n",
            "\n",
            "\n",
            "Predicting:пять минут вокр\n",
            "пять минут вокруг сказал коля сулима с полозовали и вообще\n",
            "не ответил коля сулима с полозовали и вообще не ответил\n",
            "коля сулима с полозовали и вообще не ответил коля \n",
            "\n",
            "\n",
            "Predicting:ну это детям на\n",
            "ну это детям надо сказала алиса не стала спросила алиса\n",
            "не слышала сказал коля сулима с полозовали и вообще не\n",
            "ответил коля сулима с полозовали и вообще не ответил к\n",
            "\n",
            "\n",
            "Predicting:два шарика пере\n",
            "два шарика передал ему против негодятельно оставил меня коля сулима\n",
            "подошел к стене сказал коля сулима с полозовали и вообще\n",
            "не ответил коля сулима с полозовали и во\n",
            "\n",
            "\n",
            "Predicting:томас вскинул а\n",
            "томас вскинул а ты не понимаешь я все равно не\n",
            "понял что нибудь в коридор он подошел к стене сказал\n",
            "коля сулима с полозовали и вообще не ответил коля сулима\n",
            "с полозо\n",
            "\n",
            "Predicting:служит вахтером\n",
            "служит вахтером на полу и дом строитель постаралась у нас\n",
            "в космозо с ней не случилось спросил он толстяк подошел\n",
            "к стене сказал коля сулима с полозовали и вообще не\n",
            "\n",
            "\n"
          ],
          "name": "stdout"
        },
        {
          "output_type": "display_data",
          "data": {
            "image/png": "[encoded data removed]",
            "text/plain": [
              "<Figure size 432x288 with 1 Axes>"
            ]
          },
          "metadata": {
            "tags": [],
            "needs_background": "light"
          }
        }
      ]
    },
    {
      "cell_type": "markdown",
      "metadata": {
        "id": "pe8OEOmieuhc",
        "colab_type": "text"
      },
      "source": [
        "# CONCLUSION"
      ]
    },
    {
      "cell_type": "code",
      "metadata": {
        "id": "XkVoQH6IiOJt",
        "colab_type": "code",
        "colab": {}
      },
      "source": [
        "'''\n",
        "чтоб как то контролировать результат я использовал начальные фразы.\n",
        "Они разделены на 3 части : 3 строчки из оригинального текста,\n",
        "3 строчки произвольные фразы со словами из оригинального текста ,\n",
        "3 строчки произвольные фразы с некоторыми словами не из текста.\n",
        "сооответственно для моделей со словами использовались 6 первых строк из стартовых фраз\n",
        "'''"
      ],
      "execution_count": 0,
      "outputs": []
    },
    {
      "cell_type": "code",
      "metadata": {
        "id": "Y8P-fz9_KqzH",
        "colab_type": "code",
        "colab": {}
      },
      "source": [
        "\"\"\"\n",
        "результаты моделей на основе слов вначале выгледят привлекательно ,\n",
        "но на лицо переобучение. Тоесть они просто копируют текст с небольшими вариациями .\n",
        "Минусом таких моделей еще является невозможность создавать новые слова в тексте\n",
        "(используются только слова из словаря). Иногда кажется что в них есть смысл :-)\n",
        "\n",
        "результат работы модели : \n",
        "swallowed one of the cakes and was delighted to find that her neck would bend\n",
        "about easily in any direction like a serpent she had just succeeded in curving\n",
        "it down into a graceful zigzag\n",
        "\n",
        "оригинальный кусок текста: \n",
        "swallowed one of the cakes, and was delighted to find that she\n",
        "began shrinking directly\n",
        "\n",
        "\"\"\""
      ],
      "execution_count": 0,
      "outputs": []
    },
    {
      "cell_type": "code",
      "metadata": {
        "id": "3ujWQ9p8h7hL",
        "colab_type": "code",
        "colab": {}
      },
      "source": [
        "\"\"\"\n",
        "Буквенные модели более креативные но и часто делают ошибки \n",
        "\n",
        "фраза на основе слов из книги:  duchess so pretty when sh\n",
        "\n",
        "duchess so pretty when she was near the end of\n",
        "the table said alice who was a little startled by\n",
        "a very long silence from that in beautiful soup\n",
        "\n",
        "фраза на основе произвольных слов :  national anthem is gre\n",
        "\n",
        "national anthem is greated herself with man as if she\n",
        "were said the dormouse again thats not a real rainting\n",
        "the king said to the jury and the mock turtle\n",
        "went on what you may\n",
        "\n",
        "-- много ошибок . с увеличением количества эпох это можно поправить но \n",
        "все равно нужны другие методы.\n",
        "\n",
        "немного помогает добавление 2 слоя , количество ощибок уменьшается особенно\n",
        "в русском языке\n",
        "\n",
        "\"\"\""
      ],
      "execution_count": 0,
      "outputs": []
    },
    {
      "cell_type": "code",
      "metadata": {
        "id": "usEKeXTsKq1z",
        "colab_type": "code",
        "colab": {}
      },
      "source": [
        "\"\"\"\n",
        "\n",
        "очень разнится качество в зависимости языка. Русские результаты содержат намного\n",
        "больше ошибок (понятно изза сложной грамматики). Словари в русском тоже большие.\n",
        "В словарной модели анг.словарь -2600 слов, рус.словарь - 13000. соответственнно \n",
        "и медленней работает\n",
        "\n",
        "\"\"\""
      ],
      "execution_count": 0,
      "outputs": []
    },
    {
      "cell_type": "code",
      "metadata": {
        "id": "Qgy0fLvgKq4l",
        "colab_type": "code",
        "colab": {}
      },
      "source": [
        ""
      ],
      "execution_count": 0,
      "outputs": []
    },
    {
      "cell_type": "code",
      "metadata": {
        "id": "IkT_N1QnKq-H",
        "colab_type": "code",
        "colab": {}
      },
      "source": [
        ""
      ],
      "execution_count": 0,
      "outputs": []
    }
  ]
}