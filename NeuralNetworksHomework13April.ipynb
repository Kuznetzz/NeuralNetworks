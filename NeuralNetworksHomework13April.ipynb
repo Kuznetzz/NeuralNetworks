{
  "nbformat": 4,
  "nbformat_minor": 0,
  "metadata": {
    "colab": {
      "name": "NeuralNetworksHomework13April.ipynb",
      "provenance": [],
      "collapsed_sections": []
    },
    "kernelspec": {
      "name": "python3",
      "display_name": "Python 3"
    },
    "accelerator": "GPU"
  },
  "cells": [
    {
      "cell_type": "code",
      "metadata": {
        "id": "Y4d9Ja_ZPIZD",
        "colab_type": "code",
        "colab": {}
      },
      "source": [
        "#!pip  install mnist"
      ],
      "execution_count": 0,
      "outputs": []
    },
    {
      "cell_type": "code",
      "metadata": {
        "id": "EqNOaAkOcqwh",
        "colab_type": "code",
        "colab": {}
      },
      "source": [
        "import numpy as np\n",
        "import pandas as pd\n",
        "import matplotlib.pyplot as plt\n",
        "from IPython.display import SVG\n",
        "\n",
        "import warnings\n",
        "warnings.filterwarnings('ignore')"
      ],
      "execution_count": 0,
      "outputs": []
    },
    {
      "cell_type": "markdown",
      "metadata": {
        "id": "Rqk6OcVJtka8",
        "colab_type": "text"
      },
      "source": [
        "# Домашняя работа \n",
        "### Урок 3. Keras"
      ]
    },
    {
      "cell_type": "code",
      "metadata": {
        "id": "cQ1rU5vHlNUC",
        "colab_type": "code",
        "colab": {}
      },
      "source": [
        "import mnist\n",
        "import keras\n",
        "from keras.models import Sequential\n",
        "from keras.layers import Activation, Dense\n",
        "from keras.utils import to_categorical\n",
        "from keras.utils.vis_utils import model_to_dot"
      ],
      "execution_count": 0,
      "outputs": []
    },
    {
      "cell_type": "code",
      "metadata": {
        "id": "6AqXxTbp3V4y",
        "colab_type": "code",
        "colab": {}
      },
      "source": [
        "def plot_image(pixels: np.array):\n",
        "    plt.imshow(pixels.reshape((28, 28)), cmap='gray')\n",
        "    plt.show()\n"
      ],
      "execution_count": 0,
      "outputs": []
    },
    {
      "cell_type": "code",
      "metadata": {
        "id": "nRw2urBSdbEh",
        "colab_type": "code",
        "colab": {
          "base_uri": "https://localhost:8080/",
          "height": 50
        },
        "outputId": "218b7ee8-a2d4-480d-b590-ed5e227bed3c"
      },
      "source": [
        "X_train = mnist.train_images()\n",
        "y_train = mnist.train_labels()\n",
        "X_test = mnist.test_images()\n",
        "y_test = mnist.test_labels()\n",
        "\n",
        "# Normalize the images.\n",
        "X_train = (X_train / 255) - 0.5\n",
        "X_test = (X_test / 255) - 0.5\n",
        "\n",
        "# Flatten the images.\n",
        "X_train = X_train.reshape((-1, 784))\n",
        "X_test = X_test.reshape((-1, 784))\n",
        "\n",
        "print(X_train.shape) # (60000, 784)\n",
        "print(X_test.shape)  # (10000, 784)"
      ],
      "execution_count": 572,
      "outputs": [
        {
          "output_type": "stream",
          "text": [
            "(60000, 784)\n",
            "(10000, 784)\n"
          ],
          "name": "stdout"
        }
      ]
    },
    {
      "cell_type": "code",
      "metadata": {
        "id": "LNB-ll123fc5",
        "colab_type": "code",
        "colab": {
          "base_uri": "https://localhost:8080/",
          "height": 265
        },
        "outputId": "f4a81be9-e847-4393-cdbe-76c54a6dc6c1"
      },
      "source": [
        "plot_image(X_train[1])"
      ],
      "execution_count": 573,
      "outputs": [
        {
          "output_type": "display_data",
          "data": {
            "image/png": "[encoded data removed]",
            "text/plain": [
              "<Figure size 432x288 with 1 Axes>"
            ]
          },
          "metadata": {
            "tags": [],
            "needs_background": "light"
          }
        }
      ]
    },
    {
      "cell_type": "code",
      "metadata": {
        "id": "dzVA6wlkdTyS",
        "colab_type": "code",
        "colab": {}
      },
      "source": [
        "model = Sequential([\n",
        "  Dense(529, activation='relu', input_shape=(784,)),\n",
        "  Dense(256, activation='tanh'),\n",
        "  Dense(10, activation='softmax')\n",
        "])"
      ],
      "execution_count": 0,
      "outputs": []
    },
    {
      "cell_type": "code",
      "metadata": {
        "id": "_I6LePk9ifFa",
        "colab_type": "code",
        "colab": {}
      },
      "source": [
        "model.compile(\n",
        "  optimizer=keras.optimizers.Adam(),\n",
        "  loss='categorical_crossentropy',\n",
        "  metrics=['accuracy']\n",
        ")"
      ],
      "execution_count": 0,
      "outputs": []
    },
    {
      "cell_type": "code",
      "metadata": {
        "id": "AS2A1TdQinGA",
        "colab_type": "code",
        "colab": {}
      },
      "source": [
        "model.fit(\n",
        "  X_train,\n",
        "  to_categorical(y_train),\n",
        "  epochs=75,\n",
        "  batch_size=256,\n",
        "  verbose = 0,\n",
        "  validation_data = (X_test,to_categorical(y_test)),\n",
        "  shuffle = False,\n",
        ");"
      ],
      "execution_count": 0,
      "outputs": []
    },
    {
      "cell_type": "code",
      "metadata": {
        "id": "voDtP2imifLt",
        "colab_type": "code",
        "colab": {}
      },
      "source": [
        "results = model.evaluate(X_test, to_categorical(y_test), batch_size=256, verbose=0)"
      ],
      "execution_count": 0,
      "outputs": []
    },
    {
      "cell_type": "code",
      "metadata": {
        "id": "PDTQ_JqlfHJp",
        "colab_type": "code",
        "colab": {}
      },
      "source": [
        ""
      ],
      "execution_count": 0,
      "outputs": []
    },
    {
      "cell_type": "code",
      "metadata": {
        "id": "NXpo8tZsifOR",
        "colab_type": "code",
        "colab": {
          "base_uri": "https://localhost:8080/",
          "height": 34
        },
        "outputId": "38f0603c-190a-478f-8e85-ef9e981ec3e0"
      },
      "source": [
        "results"
      ],
      "execution_count": 578,
      "outputs": [
        {
          "output_type": "execute_result",
          "data": {
            "text/plain": [
              "[0.07196026664124777, 0.9869999885559082]"
            ]
          },
          "metadata": {
            "tags": []
          },
          "execution_count": 578
        }
      ]
    },
    {
      "cell_type": "code",
      "metadata": {
        "id": "FC2ngzqgifTg",
        "colab_type": "code",
        "colab": {
          "base_uri": "https://localhost:8080/",
          "height": 281
        },
        "outputId": "1a87bf1c-919e-4307-d15d-05540730cdf0"
      },
      "source": [
        "plt.plot(model.history.history['val_accuracy'],label ='Test' )\n",
        "plt.plot(model.history.history['accuracy'],label = 'Train')\n",
        "plt.title('Accuracy on train/test')\n",
        "plt.legend();"
      ],
      "execution_count": 579,
      "outputs": [
        {
          "output_type": "display_data",
          "data": {
            "image/png": "[encoded data removed]",
            "text/plain": [
              "<Figure size 432x288 with 1 Axes>"
            ]
          },
          "metadata": {
            "tags": [],
            "needs_background": "light"
          }
        }
      ]
    },
    {
      "cell_type": "code",
      "metadata": {
        "id": "Kpl5-MdaAACy",
        "colab_type": "code",
        "colab": {
          "base_uri": "https://localhost:8080/",
          "height": 281
        },
        "outputId": "c94e6e96-fda2-4380-91b7-c20aca8cc88d"
      },
      "source": [
        "plt.plot(model.history.history['val_loss'],label ='Test' )\n",
        "plt.plot(model.history.history['loss'],label = 'Train')\n",
        "plt.title('Loss on train/test')\n",
        "plt.legend();"
      ],
      "execution_count": 580,
      "outputs": [
        {
          "output_type": "display_data",
          "data": {
            "image/png": "[encoded data removed]",
            "text/plain": [
              "<Figure size 432x288 with 1 Axes>"
            ]
          },
          "metadata": {
            "tags": [],
            "needs_background": "light"
          }
        }
      ]
    },
    {
      "cell_type": "markdown",
      "metadata": {
        "id": "vww_BvIhuzZA",
        "colab_type": "text"
      },
      "source": [
        "# Conclusion"
      ]
    },
    {
      "cell_type": "markdown",
      "metadata": {
        "id": "TrCGxSsNu7Sc",
        "colab_type": "text"
      },
      "source": [
        "## Best ACC score - 0.9869999885559082 on test"
      ]
    }
  ]
}